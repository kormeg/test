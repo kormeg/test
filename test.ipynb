{
 "cells": [
  {
   "cell_type": "code",
   "execution_count": 1,
   "id": "05b4ff83",
   "metadata": {},
   "outputs": [
    {
     "name": "stdout",
     "output_type": "stream",
     "text": [
      "Продаем на первом шаге: 222634763.01878405\n",
      "Покупаем на последнем шаге :332957056.87836254\n",
      "Прибыль :106982772.41429673\n"
     ]
    },
    {
     "data": {
      "text/plain": [
       "[[222634763.01878405, 9890962858.512815],\n",
       " [9890962858.512815, 10457920653],\n",
       " [10457920653, 1051487855],\n",
       " [1051487855, 1737844682.8000739],\n",
       " [1737844682.8000739, 332957056.87836254]]"
      ]
     },
     "metadata": {},
     "output_type": "display_data"
    }
   ],
   "source": [
    "pulls = [[3753139396, 166740188573],\n",
    "         [724520588560, 766050680304],\n",
    "         [10457920653, 1051487855],\n",
    "         [1722571966294, 2846977754550],\n",
    "         [22496742244741, 4310194783973]]\n",
    "\n",
    "def test1(pulls):\n",
    "# возможность\n",
    "    for i in range(1, len(pulls)):\n",
    "        if pulls[i][0] > pulls[i-1][1]:\n",
    "            pulls[i][1] = pulls[i][1]*pulls[i-1][1]/pulls[i][0]\n",
    "            pulls[i][0]=pulls[i-1][1]\n",
    "# целесообразность\n",
    "    pulls.reverse()\n",
    "    for i in range(1, len(pulls)):\n",
    "        if pulls[i-1][0] < pulls[i][1]:\n",
    "            pulls[i][0] = pulls[i][0]*pulls[i-1][0]/pulls[i][1]\n",
    "            pulls[i][1] = pulls[i-1][0]\n",
    "    pulls.reverse()\n",
    "    fee = pulls[0][0] * 0.003 * len(pulls)\n",
    "    profit = pulls[-1][-1] - pulls[0][0] - fee\n",
    "    \n",
    "    return pulls[0][0], pulls[-1][-1], profit, pulls\n",
    "\n",
    "sell_A, buy_A, profit, pulls = test1(pulls)\n",
    "print(f\"Продаем на первом шаге: {sell_A}\\nПокупаем на последнем шаге :{buy_A}\\nПрибыль :{profit}\")\n",
    "display(pulls)"
   ]
  },
  {
   "cell_type": "code",
   "execution_count": null,
   "id": "05795fa7",
   "metadata": {},
   "outputs": [],
   "source": []
  }
 ],
 "metadata": {
  "kernelspec": {
   "display_name": "Python 3 (ipykernel)",
   "language": "python",
   "name": "python3"
  },
  "language_info": {
   "codemirror_mode": {
    "name": "ipython",
    "version": 3
   },
   "file_extension": ".py",
   "mimetype": "text/x-python",
   "name": "python",
   "nbconvert_exporter": "python",
   "pygments_lexer": "ipython3",
   "version": "3.9.15"
  }
 },
 "nbformat": 4,
 "nbformat_minor": 5
}
